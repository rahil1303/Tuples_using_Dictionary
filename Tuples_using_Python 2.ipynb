{
 "cells": [
  {
   "cell_type": "markdown",
   "metadata": {},
   "source": [
    "## Tuples Using Dictionary"
   ]
  },
  {
   "cell_type": "markdown",
   "metadata": {},
   "source": [
    "### What is a Tuples?\n",
    "A tuple is an immutable sequence of Python objects. Tuples are comparable and hashable.\n",
    "TIME COMPLEXITY IS O(1)\n",
    "SPACE COMPLEXITY is O(n)\n",
    "#### Create a tuple"
   ]
  },
  {
   "cell_type": "code",
   "execution_count": 1,
   "metadata": {},
   "outputs": [
    {
     "name": "stdout",
     "output_type": "stream",
     "text": [
      "('a', 'b', 'c', 'd', 'e', 'f')\n"
     ]
    }
   ],
   "source": [
    "### Create a new tuple\n",
    "newTuple = \"a\",\"b\",\"c\",\"d\",\"e\",\"f\"\n",
    "print(newTuple)"
   ]
  },
  {
   "cell_type": "code",
   "execution_count": 2,
   "metadata": {},
   "outputs": [
    {
     "name": "stdout",
     "output_type": "stream",
     "text": [
      "('a', 'b', 'c', 'd', 'e', 'f')\n"
     ]
    }
   ],
   "source": [
    "### Create a new tuple\n",
    "newTuple = (\"a\",\"b\",\"c\",\"d\",\"e\",\"f\")\n",
    "print(newTuple)"
   ]
  },
  {
   "cell_type": "code",
   "execution_count": 4,
   "metadata": {},
   "outputs": [],
   "source": [
    "newtuple1 = (\"a\",) ### Always put a comma when declaring single element tuples"
   ]
  },
  {
   "cell_type": "code",
   "execution_count": 5,
   "metadata": {},
   "outputs": [
    {
     "name": "stdout",
     "output_type": "stream",
     "text": [
      "('a',)\n"
     ]
    }
   ],
   "source": [
    "print(newtuple1)"
   ]
  },
  {
   "cell_type": "code",
   "execution_count": 7,
   "metadata": {},
   "outputs": [
    {
     "name": "stdout",
     "output_type": "stream",
     "text": [
      "('a', 'b', 'c', 'd', 'e')\n"
     ]
    }
   ],
   "source": [
    "#### We can also create a tuple using tuple keyword\n",
    "newTuple2 = tuple(\"abcde\") \n",
    "print(newTuple2)"
   ]
  },
  {
   "cell_type": "markdown",
   "metadata": {},
   "source": [
    "### Tuples in Memory"
   ]
  },
  {
   "cell_type": "code",
   "execution_count": 2,
   "metadata": {},
   "outputs": [
    {
     "name": "stdout",
     "output_type": "stream",
     "text": [
      "b\n"
     ]
    }
   ],
   "source": [
    "### Tuples are extremely efficient with regards to time and space management. it is very optimized and is performace is very efficient.\n",
    "### Accessing a Tuple\n",
    "newTuple = (\"a\",\"b\",\"c\",\"d\",\"e\",\"f\")\n",
    "print(newTuple[1])"
   ]
  },
  {
   "cell_type": "code",
   "execution_count": 3,
   "metadata": {},
   "outputs": [
    {
     "name": "stdout",
     "output_type": "stream",
     "text": [
      "f\n"
     ]
    }
   ],
   "source": [
    "print(newTuple[-1])"
   ]
  },
  {
   "cell_type": "code",
   "execution_count": 4,
   "metadata": {},
   "outputs": [
    {
     "name": "stdout",
     "output_type": "stream",
     "text": [
      "('b', 'c')\n"
     ]
    }
   ],
   "source": [
    "### Using Slice Operator\n",
    "print(newTuple[1:3])"
   ]
  },
  {
   "cell_type": "code",
   "execution_count": 5,
   "metadata": {},
   "outputs": [
    {
     "name": "stdout",
     "output_type": "stream",
     "text": [
      "('a', 'b', 'c', 'd', 'e', 'f')\n"
     ]
    }
   ],
   "source": [
    "print(newTuple[:])"
   ]
  },
  {
   "cell_type": "markdown",
   "metadata": {},
   "source": [
    "### Traversing a Tuple\n"
   ]
  },
  {
   "cell_type": "code",
   "execution_count": 6,
   "metadata": {},
   "outputs": [
    {
     "name": "stdout",
     "output_type": "stream",
     "text": [
      "a\n",
      "b\n",
      "c\n",
      "d\n",
      "e\n",
      "f\n"
     ]
    }
   ],
   "source": [
    "for i in newTuple:\n",
    "    print(i)"
   ]
  },
  {
   "cell_type": "code",
   "execution_count": 10,
   "metadata": {},
   "outputs": [
    {
     "name": "stdout",
     "output_type": "stream",
     "text": [
      "a\n",
      "b\n",
      "c\n",
      "d\n",
      "e\n",
      "f\n"
     ]
    }
   ],
   "source": [
    "for i in range(len(newTuple)):\n",
    "    print(newTuple[i])\n",
    "    \n",
    "### TIME COMPLEXITY IS O(N)\n",
    "### SPACE COMPLEXITY IS O(1)"
   ]
  },
  {
   "cell_type": "markdown",
   "metadata": {},
   "source": [
    "### SEARCH FOR ELEMENTS IN TUPLES\n"
   ]
  },
  {
   "cell_type": "code",
   "execution_count": 12,
   "metadata": {},
   "outputs": [
    {
     "name": "stdout",
     "output_type": "stream",
     "text": [
      "True\n"
     ]
    }
   ],
   "source": [
    "print('b' in newTuple)"
   ]
  },
  {
   "cell_type": "code",
   "execution_count": 15,
   "metadata": {},
   "outputs": [
    {
     "data": {
      "text/plain": [
       "1"
      ]
     },
     "execution_count": 15,
     "metadata": {},
     "output_type": "execute_result"
    }
   ],
   "source": [
    "### Using Linear Search\n",
    "def searchTuple(Tuplle,element):\n",
    "    for i in Tuplle:\n",
    "        if i == element:\n",
    "            return Tuplle.index(i)\n",
    "        \n",
    "    return \"element does not exist\"\n",
    "searchTuple(newTuple,\"b\")\n",
    "### TIME COMPLEXITY IS O(N) SPACE COMPLEXITY IS O(1)"
   ]
  },
  {
   "cell_type": "markdown",
   "metadata": {},
   "source": [
    "### FUNCTIONS AND OPERATIONS IN TUPLES"
   ]
  },
  {
   "cell_type": "code",
   "execution_count": 16,
   "metadata": {},
   "outputs": [
    {
     "name": "stdout",
     "output_type": "stream",
     "text": [
      "('a', 'b', 'c', 'd', 'e', 'f')\n",
      "('g', 'h', 'i', 'j', 'k', 'l')\n"
     ]
    }
   ],
   "source": [
    "newTuple = (\"a\",\"b\",\"c\",\"d\",\"e\",\"f\")\n",
    "newTuple1 = (\"g\",\"h\",\"i\",\"j\",\"k\",\"l\")\n",
    "print(newTuple)\n",
    "print(newTuple1)"
   ]
  },
  {
   "cell_type": "code",
   "execution_count": 17,
   "metadata": {},
   "outputs": [
    {
     "name": "stdout",
     "output_type": "stream",
     "text": [
      "('a', 'b', 'c', 'd', 'e', 'f', 'g', 'h', 'i', 'j', 'k', 'l')\n"
     ]
    }
   ],
   "source": [
    "### by using concatenation operator\n",
    "print(newTuple + newTuple1)"
   ]
  },
  {
   "cell_type": "code",
   "execution_count": 18,
   "metadata": {},
   "outputs": [
    {
     "name": "stdout",
     "output_type": "stream",
     "text": [
      "('a', 'b', 'c', 'd', 'e', 'f', 'a', 'b', 'c', 'd', 'e', 'f')\n"
     ]
    }
   ],
   "source": [
    "### Now we cannot multiply the tuples but we can mutiply individual numbers to the tuples\n",
    "print(newTuple*2)"
   ]
  },
  {
   "cell_type": "code",
   "execution_count": 20,
   "metadata": {},
   "outputs": [
    {
     "name": "stdout",
     "output_type": "stream",
     "text": [
      "True\n"
     ]
    }
   ],
   "source": [
    "### Search for a element in Tuple\n",
    "print(\"a\" in newTuple)"
   ]
  },
  {
   "cell_type": "code",
   "execution_count": 22,
   "metadata": {},
   "outputs": [
    {
     "name": "stdout",
     "output_type": "stream",
     "text": [
      "1\n"
     ]
    }
   ],
   "source": [
    "### Count Method in Tuple\n",
    "print(newTuple.count(\"a\"))"
   ]
  },
  {
   "cell_type": "code",
   "execution_count": 29,
   "metadata": {},
   "outputs": [
    {
     "name": "stdout",
     "output_type": "stream",
     "text": [
      "1\n"
     ]
    }
   ],
   "source": [
    "### Access Tuple using Index\n",
    "print(newTuple.index(\"b\"))"
   ]
  },
  {
   "cell_type": "code",
   "execution_count": 31,
   "metadata": {},
   "outputs": [
    {
     "name": "stdout",
     "output_type": "stream",
     "text": [
      "6\n"
     ]
    }
   ],
   "source": [
    "### Find llength of tuple\n",
    "print(len(newTuple))"
   ]
  },
  {
   "cell_type": "code",
   "execution_count": 32,
   "metadata": {},
   "outputs": [
    {
     "name": "stdout",
     "output_type": "stream",
     "text": [
      "f\n"
     ]
    }
   ],
   "source": [
    "### Find Maximum in Tuple\n",
    "print(max(newTuple))"
   ]
  },
  {
   "cell_type": "code",
   "execution_count": 33,
   "metadata": {},
   "outputs": [
    {
     "name": "stdout",
     "output_type": "stream",
     "text": [
      "a\n"
     ]
    }
   ],
   "source": [
    "### Find Minimum in tuple\n",
    "print(min(newTuple))"
   ]
  },
  {
   "cell_type": "markdown",
   "metadata": {},
   "source": [
    "### Convert List into Tuple"
   ]
  },
  {
   "cell_type": "code",
   "execution_count": 34,
   "metadata": {},
   "outputs": [
    {
     "name": "stdout",
     "output_type": "stream",
     "text": [
      "(1, 2, 3, 4)\n"
     ]
    }
   ],
   "source": [
    "print(tuple([1,2,3,4]))"
   ]
  },
  {
   "cell_type": "markdown",
   "metadata": {},
   "source": [
    "### LIST VS TUPLE\n",
    "MAJOR DIFFERENCE BETWEEN THE TWO IS THAT LIST IS MUTABLE WHEREAS TUPLE IS IMMUTABLE.\n",
    "1. Reassinging a tuple and a list can be done. This is the one similarity they have\n",
    "2. By using slice method we cannot delete tuple elements\n",
    "3. We can del operator to delete entire tuple but it is not possible to delete a single element from the tuple \n",
    "4. Len(), Sorted(),sum(),any(),all(),sorted()\n",
    "5. Methods that can be using for both lists and Tuples are count() and index()\n",
    "6. Methods that cannot be used in Tuples: append(),insert(),remove(),pop(),clear(),sort(),reverse()\n",
    "7. Tuples can be stored in lists\n",
    "8. Lists can be stored in Tuples\n",
    "9. We generally use tuples for heterogeneous (different) data types and lists for homogeneous (similar) data types\n",
    "10. Iterating through a tuple is faster than with a list\n",
    "11. Tuples that contain immutable elements can be used as a key for dictionary\n",
    "12. if you have data that does not change, implementing it as tuple will guarantee that it remains write protected"
   ]
  },
  {
   "cell_type": "code",
   "execution_count": 35,
   "metadata": {},
   "outputs": [
    {
     "name": "stdout",
     "output_type": "stream",
     "text": [
      "[0, 3, 2, 3, 4, 5, 6, 7]\n"
     ]
    }
   ],
   "source": [
    "list1 = [0,1,2,3,4,5,6,7]\n",
    "list1[1] = 3\n",
    "print(list1)"
   ]
  },
  {
   "cell_type": "code",
   "execution_count": 36,
   "metadata": {},
   "outputs": [
    {
     "name": "stdout",
     "output_type": "stream",
     "text": [
      "[7, 4, 5, 6, 4, 3, 2, 2, 1]\n"
     ]
    }
   ],
   "source": [
    "#reassign\n",
    "list1 = [7,4,5,6,4,3,2,2,1]\n",
    "print(list1)"
   ]
  },
  {
   "cell_type": "code",
   "execution_count": 38,
   "metadata": {},
   "outputs": [],
   "source": [
    "del list1[0]"
   ]
  },
  {
   "cell_type": "code",
   "execution_count": 39,
   "metadata": {},
   "outputs": [
    {
     "name": "stdout",
     "output_type": "stream",
     "text": [
      "[4, 5, 6, 4, 3, 2, 2, 1]\n"
     ]
    }
   ],
   "source": [
    "print(list1)"
   ]
  },
  {
   "cell_type": "code",
   "execution_count": 42,
   "metadata": {},
   "outputs": [
    {
     "ename": "TypeError",
     "evalue": "'tuple' object does not support item assignment",
     "output_type": "error",
     "traceback": [
      "\u001b[0;31m---------------------------------------------------------------------------\u001b[0m",
      "\u001b[0;31mTypeError\u001b[0m                                 Traceback (most recent call last)",
      "\u001b[0;32m<ipython-input-42-83e84bcdee64>\u001b[0m in \u001b[0;36m<module>\u001b[0;34m\u001b[0m\n\u001b[1;32m      1\u001b[0m \u001b[0;31m### Let's see Tuple\u001b[0m\u001b[0;34m\u001b[0m\u001b[0;34m\u001b[0m\u001b[0;34m\u001b[0m\u001b[0m\n\u001b[1;32m      2\u001b[0m \u001b[0mmyTuple\u001b[0m \u001b[0;34m=\u001b[0m \u001b[0;34m(\u001b[0m\u001b[0;36m0\u001b[0m\u001b[0;34m,\u001b[0m\u001b[0;36m1\u001b[0m\u001b[0;34m,\u001b[0m\u001b[0;36m2\u001b[0m\u001b[0;34m,\u001b[0m\u001b[0;36m3\u001b[0m\u001b[0;34m,\u001b[0m\u001b[0;36m4\u001b[0m\u001b[0;34m,\u001b[0m\u001b[0;36m5\u001b[0m\u001b[0;34m,\u001b[0m\u001b[0;36m6\u001b[0m\u001b[0;34m,\u001b[0m\u001b[0;36m7\u001b[0m\u001b[0;34m,\u001b[0m\u001b[0;36m8\u001b[0m\u001b[0;34m,\u001b[0m\u001b[0;36m9\u001b[0m\u001b[0;34m)\u001b[0m\u001b[0;34m\u001b[0m\u001b[0;34m\u001b[0m\u001b[0m\n\u001b[0;32m----> 3\u001b[0;31m \u001b[0mmyTuple\u001b[0m\u001b[0;34m[\u001b[0m\u001b[0;36m1\u001b[0m\u001b[0;34m]\u001b[0m \u001b[0;34m=\u001b[0m \u001b[0;36m8\u001b[0m\u001b[0;34m\u001b[0m\u001b[0;34m\u001b[0m\u001b[0m\n\u001b[0m\u001b[1;32m      4\u001b[0m \u001b[0mprint\u001b[0m\u001b[0;34m(\u001b[0m\u001b[0mmyTuple\u001b[0m\u001b[0;34m)\u001b[0m\u001b[0;34m\u001b[0m\u001b[0;34m\u001b[0m\u001b[0m\n",
      "\u001b[0;31mTypeError\u001b[0m: 'tuple' object does not support item assignment"
     ]
    }
   ],
   "source": [
    "### Let's see Tuple\n",
    "myTuple = (0,1,2,3,4,5,6,7,8,9)\n",
    "myTuple[1] = 8\n",
    "print(myTuple)"
   ]
  },
  {
   "cell_type": "markdown",
   "metadata": {},
   "source": [
    "1. Reassinging a tuple and a list can be done. This is the one similarity they have\n",
    "2. By using slice method we cannot delete tuple elements\n",
    "3. We can del operator to delete entire tuple but it is not possible to delete a single element from the tuple \n",
    "4. Len(), Sorted(),sum(),any(),all(),sorted()\n",
    "5. Methods that can be using for both lists and Tuples are count() and index()\n",
    "6. Methods that cannot be used in Tuples: append(),insert(),remove(),pop(),clear(),sort(),reverse()\n",
    "7. Tuples can be stored in lists\n",
    "8. Lists can be stored in Tuples\n",
    "9. We generally use tuples for heterogeneous (different) data types and lists for homogeneous (similar) data types\n",
    "10. Iterating through a tuple is faster than with a list\n",
    "11. Tuples that contain immutable elements can be used as a key for dictionary\n",
    "12. if you have data that does not change, implementing it as tuple will guarantee that it remains write protected."
   ]
  },
  {
   "cell_type": "code",
   "execution_count": 43,
   "metadata": {},
   "outputs": [
    {
     "name": "stdout",
     "output_type": "stream",
     "text": [
      "[(1, 2), (3, 4), (5, 6)]\n"
     ]
    }
   ],
   "source": [
    "### Tuples can be stored in lists and lists can be stored in tuples\n",
    "list1 = [(1,2),(3,4),(5,6)]\n",
    "\n",
    "print(list1)"
   ]
  },
  {
   "cell_type": "code",
   "execution_count": 45,
   "metadata": {},
   "outputs": [
    {
     "name": "stdout",
     "output_type": "stream",
     "text": [
      "([1, 2], [3, 4], [5, 6])\n"
     ]
    }
   ],
   "source": [
    "### Lists in a tuple\n",
    "mytuple = ([1,2],[3,4],[5,6])\n",
    "print(mytuple)"
   ]
  },
  {
   "cell_type": "markdown",
   "metadata": {},
   "source": [
    "TIME AND SPACE COMPLEXITY\n",
    "1. Creating a Tuple\n",
    "Time Complexity = O(1) Space Complexity = O(n)\n",
    "2. Traversing a Given Tuple\n",
    "Time Complexity = O(n) Space Complexity = O(1)\n",
    "3. Accessing a given element\n",
    "Tme complexity = O(1) Space Complexity = O(1)\n",
    "4. Searching a given element\n",
    "Time Complexity = O(n) Space Complexity = O(1)"
   ]
  },
  {
   "cell_type": "code",
   "execution_count": null,
   "metadata": {},
   "outputs": [],
   "source": [
    "mytup = ()\n",
    "print(mytup.__len__())"
   ]
  }
 ],
 "metadata": {
  "kernelspec": {
   "display_name": "Python 3",
   "language": "python",
   "name": "python3"
  },
  "language_info": {
   "codemirror_mode": {
    "name": "ipython",
    "version": 3
   },
   "file_extension": ".py",
   "mimetype": "text/x-python",
   "name": "python",
   "nbconvert_exporter": "python",
   "pygments_lexer": "ipython3",
   "version": "3.9.2+"
  }
 },
 "nbformat": 4,
 "nbformat_minor": 2
}
